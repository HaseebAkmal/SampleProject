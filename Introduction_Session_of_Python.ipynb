{
  "cells": [
    {
      "cell_type": "markdown",
      "metadata": {
        "id": "view-in-github",
        "colab_type": "text"
      },
      "source": [
        "<a href=\"https://colab.research.google.com/github/HaseebAkmal/SampleProject/blob/master/Introduction_Session_of_Python.ipynb\" target=\"_parent\"><img src=\"https://colab.research.google.com/assets/colab-badge.svg\" alt=\"Open In Colab\"/></a>"
      ]
    },
    {
      "cell_type": "markdown",
      "metadata": {
        "id": "N-kUAYi0HtCn"
      },
      "source": [
        "# Introduction of Python Basic Data Types \n",
        "Data types\n",
        "    * Numbers\n",
        "    * Strings\n",
        "    * Printing\n",
        "    * Lists\n",
        "    * Dictionaries\n",
        "    * Booleans\n",
        "    * Tuples \n",
        "    * Sets\n"
      ]
    },
    {
      "cell_type": "markdown",
      "metadata": {
        "id": "oLEltEkFHtCs"
      },
      "source": [
        "# Data types \n",
        "Numbers"
      ]
    },
    {
      "cell_type": "code",
      "execution_count": 1,
      "metadata": {
        "colab": {
          "base_uri": "https://localhost:8080/"
        },
        "id": "Y1j40XhYHtCt",
        "outputId": "46185772-736a-4dc5-c4f1-da918801914e"
      },
      "outputs": [
        {
          "output_type": "execute_result",
          "data": {
            "text/plain": [
              "4"
            ]
          },
          "metadata": {},
          "execution_count": 1
        }
      ],
      "source": [
        "\n",
        "2+2"
      ]
    },
    {
      "cell_type": "code",
      "execution_count": 2,
      "metadata": {
        "colab": {
          "base_uri": "https://localhost:8080/"
        },
        "id": "o4xnP9LPHtCu",
        "outputId": "abf7164b-1c8d-4862-a6b8-58cb0dc298d4"
      },
      "outputs": [
        {
          "output_type": "execute_result",
          "data": {
            "text/plain": [
              "16"
            ]
          },
          "metadata": {},
          "execution_count": 2
        }
      ],
      "source": [
        "2**4"
      ]
    },
    {
      "cell_type": "code",
      "execution_count": 3,
      "metadata": {
        "colab": {
          "base_uri": "https://localhost:8080/"
        },
        "id": "e-oC4aL6HtCu",
        "outputId": "3c890a72-02ad-49b5-d2c9-3530b8fb94dd"
      },
      "outputs": [
        {
          "output_type": "execute_result",
          "data": {
            "text/plain": [
              "0.4"
            ]
          },
          "metadata": {},
          "execution_count": 3
        }
      ],
      "source": [
        "2/5"
      ]
    },
    {
      "cell_type": "code",
      "execution_count": 4,
      "metadata": {
        "colab": {
          "base_uri": "https://localhost:8080/"
        },
        "id": "qzI08TQ0HtCv",
        "outputId": "be8e1283-ec6d-4760-8bf1-0d8bce3a2ddd"
      },
      "outputs": [
        {
          "output_type": "execute_result",
          "data": {
            "text/plain": [
              "6"
            ]
          },
          "metadata": {},
          "execution_count": 4
        }
      ],
      "source": [
        "\n",
        "x=2\n",
        "y=4\n",
        "x+y"
      ]
    },
    {
      "cell_type": "code",
      "execution_count": 5,
      "metadata": {
        "colab": {
          "base_uri": "https://localhost:8080/"
        },
        "id": "-Mq7GTgCHtCv",
        "outputId": "b548f39a-de96-42d0-af58-b98b3fcb5b82"
      },
      "outputs": [
        {
          "output_type": "stream",
          "name": "stdout",
          "text": [
            "2\n"
          ]
        }
      ],
      "source": [
        "print(x)"
      ]
    },
    {
      "cell_type": "code",
      "execution_count": 6,
      "metadata": {
        "colab": {
          "base_uri": "https://localhost:8080/"
        },
        "id": "xd0XxJsTHtCv",
        "outputId": "57e4ac19-d854-4fe6-bc53-d1a64ddf06fc"
      },
      "outputs": [
        {
          "output_type": "execute_result",
          "data": {
            "text/plain": [
              "2"
            ]
          },
          "metadata": {},
          "execution_count": 6
        }
      ],
      "source": [
        "x"
      ]
    },
    {
      "cell_type": "code",
      "execution_count": 7,
      "metadata": {
        "colab": {
          "base_uri": "https://localhost:8080/"
        },
        "id": "1jZYeLnRHtCw",
        "outputId": "10100659-fda9-4de2-83ad-0395d94d0f2b"
      },
      "outputs": [
        {
          "output_type": "execute_result",
          "data": {
            "text/plain": [
              "int"
            ]
          },
          "metadata": {},
          "execution_count": 7
        }
      ],
      "source": [
        "type(x)"
      ]
    },
    {
      "cell_type": "code",
      "execution_count": 8,
      "metadata": {
        "colab": {
          "base_uri": "https://localhost:8080/"
        },
        "id": "ewuizMDIHtCw",
        "outputId": "74a4aca9-8762-4247-d730-6b2e81ba8420"
      },
      "outputs": [
        {
          "output_type": "stream",
          "name": "stdout",
          "text": [
            "10 10 10\n",
            "12 23 12.01\n"
          ]
        }
      ],
      "source": [
        "# Multiple assignments\n",
        "b = c = d = 10 # \n",
        "print (b,c,d)\n",
        "e, f, g = 12,'23',12.01\n",
        "print(e,f,g)"
      ]
    },
    {
      "cell_type": "code",
      "execution_count": 10,
      "metadata": {
        "colab": {
          "base_uri": "https://localhost:8080/"
        },
        "id": "iJJVyBQoHtCw",
        "outputId": "0e4b1e7e-b809-494a-fdc4-ea9709e8bc79"
      },
      "outputs": [
        {
          "output_type": "execute_result",
          "data": {
            "text/plain": [
              "float"
            ]
          },
          "metadata": {},
          "execution_count": 10
        }
      ],
      "source": [
        "type(f)"
      ]
    },
    {
      "cell_type": "code",
      "execution_count": 11,
      "metadata": {
        "colab": {
          "base_uri": "https://localhost:8080/",
          "height": 35
        },
        "id": "IIN-EU7iHtCx",
        "outputId": "f2edbee2-7a89-4ec2-be5a-23f6937e380c"
      },
      "outputs": [
        {
          "output_type": "execute_result",
          "data": {
            "text/plain": [
              "'23hello'"
            ],
            "application/vnd.google.colaboratory.intrinsic+json": {
              "type": "string"
            }
          },
          "metadata": {},
          "execution_count": 11
        }
      ],
      "source": [
        "f+\"hello\""
      ]
    },
    {
      "cell_type": "markdown",
      "metadata": {
        "id": "YWQA-cDeHtCx"
      },
      "source": [
        "# Strings"
      ]
    },
    {
      "cell_type": "raw",
      "metadata": {
        "id": "8JAxCZEUHtCy"
      },
      "source": [
        "#strings \n",
        "\n",
        "'my name is mazhar'"
      ]
    },
    {
      "cell_type": "code",
      "execution_count": 12,
      "metadata": {
        "colab": {
          "base_uri": "https://localhost:8080/",
          "height": 35
        },
        "id": "iaQ0f2svHtCy",
        "outputId": "90b7227d-46d0-40e5-e296-d51d4b23415f"
      },
      "outputs": [
        {
          "output_type": "execute_result",
          "data": {
            "text/plain": [
              "'my name is mazhar'"
            ],
            "application/vnd.google.colaboratory.intrinsic+json": {
              "type": "string"
            }
          },
          "metadata": {},
          "execution_count": 12
        }
      ],
      "source": [
        "\"my name is mazhar\""
      ]
    },
    {
      "cell_type": "code",
      "execution_count": 13,
      "metadata": {
        "colab": {
          "base_uri": "https://localhost:8080/"
        },
        "id": "MGBzCiUvHtCy",
        "outputId": "14d9d135-ed4e-4d9e-86ef-c354ffbf2748"
      },
      "outputs": [
        {
          "output_type": "stream",
          "name": "stdout",
          "text": [
            "hello\n"
          ]
        }
      ],
      "source": [
        "x='hello'\n",
        "x\n",
        "print(x)"
      ]
    },
    {
      "cell_type": "code",
      "execution_count": 14,
      "metadata": {
        "colab": {
          "base_uri": "https://localhost:8080/",
          "height": 35
        },
        "id": "mvxjRygVHtCy",
        "outputId": "7f4db25c-cf02-453b-fed0-86ef240e4950"
      },
      "outputs": [
        {
          "output_type": "execute_result",
          "data": {
            "text/plain": [
              "\"i can't do it\""
            ],
            "application/vnd.google.colaboratory.intrinsic+json": {
              "type": "string"
            }
          },
          "metadata": {},
          "execution_count": 14
        }
      ],
      "source": [
        "\"i can't do it\""
      ]
    },
    {
      "cell_type": "code",
      "execution_count": 16,
      "metadata": {
        "colab": {
          "base_uri": "https://localhost:8080/",
          "height": 35
        },
        "id": "-SW_ooNsHtCy",
        "outputId": "4584d7fa-f575-477a-f8f7-6c53cceba71c"
      },
      "outputs": [
        {
          "output_type": "execute_result",
          "data": {
            "text/plain": [
              "'my name is mazhar and my number is 12'"
            ],
            "application/vnd.google.colaboratory.intrinsic+json": {
              "type": "string"
            }
          },
          "metadata": {},
          "execution_count": 16
        }
      ],
      "source": [
        "num =12\n",
        "name='mazhar'\n",
        "'my name is {} and my number is {}'.format(name,num)"
      ]
    },
    {
      "cell_type": "code",
      "execution_count": 17,
      "metadata": {
        "colab": {
          "base_uri": "https://localhost:8080/"
        },
        "id": "-YalSUwNHtCz",
        "outputId": "57c55108-39c5-4b4c-bdda-cdd9c20509e3"
      },
      "outputs": [
        {
          "output_type": "execute_result",
          "data": {
            "text/plain": [
              "str"
            ]
          },
          "metadata": {},
          "execution_count": 17
        }
      ],
      "source": [
        "type(x)"
      ]
    },
    {
      "cell_type": "code",
      "execution_count": 18,
      "metadata": {
        "collapsed": true,
        "id": "zi0z8ENQHtCz"
      },
      "outputs": [],
      "source": [
        "s = 'hello world'"
      ]
    },
    {
      "cell_type": "code",
      "execution_count": 19,
      "metadata": {
        "colab": {
          "base_uri": "https://localhost:8080/",
          "height": 35
        },
        "id": "KbQDLlG8HtCz",
        "outputId": "c4813f5b-563d-44bc-e438-e53644fe980f"
      },
      "outputs": [
        {
          "output_type": "execute_result",
          "data": {
            "text/plain": [
              "'Hello world'"
            ],
            "application/vnd.google.colaboratory.intrinsic+json": {
              "type": "string"
            }
          },
          "metadata": {},
          "execution_count": 19
        }
      ],
      "source": [
        "# Capitalize first word in string\n",
        "s.capitalize()"
      ]
    },
    {
      "cell_type": "code",
      "execution_count": 20,
      "metadata": {
        "colab": {
          "base_uri": "https://localhost:8080/",
          "height": 35
        },
        "id": "1aes2TFTHtC0",
        "outputId": "f91de611-d936-45f5-f26e-c4ab93a8aae8"
      },
      "outputs": [
        {
          "output_type": "execute_result",
          "data": {
            "text/plain": [
              "'HELLO WORLD'"
            ],
            "application/vnd.google.colaboratory.intrinsic+json": {
              "type": "string"
            }
          },
          "metadata": {},
          "execution_count": 20
        }
      ],
      "source": [
        "s.upper()"
      ]
    },
    {
      "cell_type": "code",
      "execution_count": 21,
      "metadata": {
        "collapsed": true,
        "colab": {
          "base_uri": "https://localhost:8080/",
          "height": 35
        },
        "id": "YyUC9CyjHtC0",
        "outputId": "b07cc5b2-f218-4cb8-e5cb-1733d39d0be3"
      },
      "outputs": [
        {
          "output_type": "execute_result",
          "data": {
            "text/plain": [
              "'hello world'"
            ],
            "application/vnd.google.colaboratory.intrinsic+json": {
              "type": "string"
            }
          },
          "metadata": {},
          "execution_count": 21
        }
      ],
      "source": [
        "s.lower()"
      ]
    },
    {
      "cell_type": "code",
      "execution_count": 22,
      "metadata": {
        "colab": {
          "base_uri": "https://localhost:8080/"
        },
        "id": "_nC-Fle_HtC0",
        "outputId": "f8a16e22-1f23-4c29-e3cf-8a8cf4cc837e"
      },
      "outputs": [
        {
          "output_type": "execute_result",
          "data": {
            "text/plain": [
              "2"
            ]
          },
          "metadata": {},
          "execution_count": 22
        }
      ],
      "source": [
        "s.count('o')"
      ]
    },
    {
      "cell_type": "code",
      "execution_count": 23,
      "metadata": {
        "colab": {
          "base_uri": "https://localhost:8080/"
        },
        "id": "mAT0tKbKHtC1",
        "outputId": "b6c34869-dac4-489b-d302-d0eff3cf47e4"
      },
      "outputs": [
        {
          "output_type": "execute_result",
          "data": {
            "text/plain": [
              "4"
            ]
          },
          "metadata": {},
          "execution_count": 23
        }
      ],
      "source": [
        "s.find('o')"
      ]
    },
    {
      "cell_type": "code",
      "execution_count": 26,
      "metadata": {
        "colab": {
          "base_uri": "https://localhost:8080/",
          "height": 35
        },
        "id": "vUncbz5PHtC1",
        "outputId": "6f0be872-f0ce-416f-c63c-e1e929930d3b"
      },
      "outputs": [
        {
          "output_type": "execute_result",
          "data": {
            "text/plain": [
              "'hello   hi'"
            ],
            "application/vnd.google.colaboratory.intrinsic+json": {
              "type": "string"
            }
          },
          "metadata": {},
          "execution_count": 26
        }
      ],
      "source": [
        "'hello\\thi'.expandtabs()"
      ]
    },
    {
      "cell_type": "code",
      "execution_count": 27,
      "metadata": {
        "colab": {
          "base_uri": "https://localhost:8080/"
        },
        "id": "l4DMwt4NHtC1",
        "outputId": "549afc56-2829-438f-f1ec-b57101619254"
      },
      "outputs": [
        {
          "output_type": "execute_result",
          "data": {
            "text/plain": [
              "False"
            ]
          },
          "metadata": {},
          "execution_count": 27
        }
      ],
      "source": [
        "s.isalnum()"
      ]
    },
    {
      "cell_type": "code",
      "execution_count": 28,
      "metadata": {
        "colab": {
          "base_uri": "https://localhost:8080/"
        },
        "id": "Imq-U7xdHtC1",
        "outputId": "56dd64b6-9d29-45ea-fb55-ab1e6854a5d2"
      },
      "outputs": [
        {
          "output_type": "execute_result",
          "data": {
            "text/plain": [
              "False"
            ]
          },
          "metadata": {},
          "execution_count": 28
        }
      ],
      "source": [
        "s.isalpha()"
      ]
    },
    {
      "cell_type": "code",
      "execution_count": 31,
      "metadata": {
        "colab": {
          "base_uri": "https://localhost:8080/"
        },
        "id": "OLuc4SSgHtC1",
        "outputId": "1283b578-efe1-4d86-eb19-d147ddd02693"
      },
      "outputs": [
        {
          "output_type": "execute_result",
          "data": {
            "text/plain": [
              "True"
            ]
          },
          "metadata": {},
          "execution_count": 31
        }
      ],
      "source": [
        "p='mazhar'\n",
        "p.isalpha()"
      ]
    },
    {
      "cell_type": "code",
      "execution_count": 32,
      "metadata": {
        "colab": {
          "base_uri": "https://localhost:8080/"
        },
        "id": "oryXq7OwHtC2",
        "outputId": "7dfb1bcb-d7ac-435f-9ff2-069905b5b9be"
      },
      "outputs": [
        {
          "output_type": "execute_result",
          "data": {
            "text/plain": [
              "True"
            ]
          },
          "metadata": {},
          "execution_count": 32
        }
      ],
      "source": [
        "s.islower()"
      ]
    },
    {
      "cell_type": "markdown",
      "metadata": {
        "id": "LLeRiNdXHtC2"
      },
      "source": [
        "###### istitle() will return True if S is a title cased string and there is at least one character in S, i.e. uppercase characters may only follow uncased characters and lowercase characters only cased ones. Return False otherwise."
      ]
    },
    {
      "cell_type": "code",
      "execution_count": 33,
      "metadata": {
        "colab": {
          "base_uri": "https://localhost:8080/"
        },
        "id": "VlH1DYNEHtC2",
        "outputId": "aefbf823-1432-4d0c-f7c8-f1dd8442eb6a"
      },
      "outputs": [
        {
          "output_type": "execute_result",
          "data": {
            "text/plain": [
              "False"
            ]
          },
          "metadata": {},
          "execution_count": 33
        }
      ],
      "source": [
        "s.istitle()"
      ]
    },
    {
      "cell_type": "code",
      "execution_count": 34,
      "metadata": {
        "colab": {
          "base_uri": "https://localhost:8080/"
        },
        "id": "VT2M6nXiHtC3",
        "outputId": "8ac6a5e8-07f5-466e-9436-30944d6f3399"
      },
      "outputs": [
        {
          "output_type": "execute_result",
          "data": {
            "text/plain": [
              "True"
            ]
          },
          "metadata": {},
          "execution_count": 34
        }
      ],
      "source": [
        "s.endswith('d')\n",
        "\n"
      ]
    },
    {
      "cell_type": "code",
      "execution_count": 35,
      "metadata": {
        "colab": {
          "base_uri": "https://localhost:8080/"
        },
        "id": "65gkm-lJHtC3",
        "outputId": "c1b7a512-203c-4e27-d7d6-d49399ea6e25"
      },
      "outputs": [
        {
          "output_type": "stream",
          "name": "stdout",
          "text": [
            "hello\n",
            "m\n",
            "ert\n",
            "l\n",
            "e\n"
          ]
        }
      ],
      "source": [
        "s = \"\"\"hello\n",
        "m\n",
        "ert\n",
        "l\n",
        "e\"\"\"\n",
        "print(s)"
      ]
    },
    {
      "cell_type": "markdown",
      "metadata": {
        "id": "bPs8KqR2HtC3"
      },
      "source": [
        "# string Slicing\n",
        "Slicing is used to extract a subsequence out of your sequence, and has a special notation in Python:\n",
        "var[lower:upper:step]\n",
        "The element which has index equal to the lower bound is included in the slice, but the element which has index equal to the upper bound is excluded, so mathematically, the ie slice is [lower, upper). If you think of the indices as being between the elements, then this mentally works very nicely, as we'll see.\n",
        "The step argument is optional, and indicates the strides between elements in the subsequence, so a step of 2 takes every second element.\n",
        "As an example, let's extract elements 1 through 3:"
      ]
    },
    {
      "cell_type": "code",
      "execution_count": 36,
      "metadata": {
        "colab": {
          "base_uri": "https://localhost:8080/",
          "height": 35
        },
        "id": "j5icCdPEHtC4",
        "outputId": "bddec3e9-3e5c-4e16-cd6d-f3472af6b9aa"
      },
      "outputs": [
        {
          "output_type": "execute_result",
          "data": {
            "text/plain": [
              "'h'"
            ],
            "application/vnd.google.colaboratory.intrinsic+json": {
              "type": "string"
            }
          },
          "metadata": {},
          "execution_count": 36
        }
      ],
      "source": [
        "s='hello'\n",
        "s[0]"
      ]
    },
    {
      "cell_type": "code",
      "execution_count": 37,
      "metadata": {
        "colab": {
          "base_uri": "https://localhost:8080/",
          "height": 35
        },
        "id": "z2qahwn1HtC4",
        "outputId": "5bf22219-059c-4c37-9337-f1d273ea1396"
      },
      "outputs": [
        {
          "output_type": "execute_result",
          "data": {
            "text/plain": [
              "'o'"
            ],
            "application/vnd.google.colaboratory.intrinsic+json": {
              "type": "string"
            }
          },
          "metadata": {},
          "execution_count": 37
        }
      ],
      "source": [
        "s[4]"
      ]
    },
    {
      "cell_type": "code",
      "execution_count": 38,
      "metadata": {
        "colab": {
          "base_uri": "https://localhost:8080/",
          "height": 35
        },
        "id": "V1NWQ8xjHtC5",
        "outputId": "8bb6afd2-0114-4c24-85fb-9ae426600421"
      },
      "outputs": [
        {
          "output_type": "execute_result",
          "data": {
            "text/plain": [
              "'hello'"
            ],
            "application/vnd.google.colaboratory.intrinsic+json": {
              "type": "string"
            }
          },
          "metadata": {},
          "execution_count": 38
        }
      ],
      "source": [
        "s[0:]"
      ]
    },
    {
      "cell_type": "code",
      "execution_count": 39,
      "metadata": {
        "colab": {
          "base_uri": "https://localhost:8080/",
          "height": 35
        },
        "id": "avZI-DO3HtC5",
        "outputId": "3a7a4261-38d1-4089-f2ca-beb6e35131da"
      },
      "outputs": [
        {
          "output_type": "execute_result",
          "data": {
            "text/plain": [
              "'hel'"
            ],
            "application/vnd.google.colaboratory.intrinsic+json": {
              "type": "string"
            }
          },
          "metadata": {},
          "execution_count": 39
        }
      ],
      "source": [
        "s[:3]"
      ]
    },
    {
      "cell_type": "code",
      "execution_count": 40,
      "metadata": {
        "colab": {
          "base_uri": "https://localhost:8080/",
          "height": 35
        },
        "id": "Wb7ce3lFHtDB",
        "outputId": "5b0f5881-e298-4f1a-b115-db909bfa2ffd"
      },
      "outputs": [
        {
          "output_type": "execute_result",
          "data": {
            "text/plain": [
              "'he'"
            ],
            "application/vnd.google.colaboratory.intrinsic+json": {
              "type": "string"
            }
          },
          "metadata": {},
          "execution_count": 40
        }
      ],
      "source": [
        "s[:2]"
      ]
    },
    {
      "cell_type": "code",
      "execution_count": 41,
      "metadata": {
        "colab": {
          "base_uri": "https://localhost:8080/",
          "height": 35
        },
        "id": "pZ4ueS6mHtDC",
        "outputId": "7b8796b9-e1e2-4cb7-ab70-df26d22dccf0"
      },
      "outputs": [
        {
          "output_type": "execute_result",
          "data": {
            "text/plain": [
              "'hel'"
            ],
            "application/vnd.google.colaboratory.intrinsic+json": {
              "type": "string"
            }
          },
          "metadata": {},
          "execution_count": 41
        }
      ],
      "source": [
        "s[0:3]"
      ]
    },
    {
      "cell_type": "code",
      "execution_count": 42,
      "metadata": {
        "colab": {
          "base_uri": "https://localhost:8080/",
          "height": 35
        },
        "id": "XGSOzsOzHtDC",
        "outputId": "3ddaf6c4-b76a-4390-a339-3b103e68b181"
      },
      "outputs": [
        {
          "output_type": "execute_result",
          "data": {
            "text/plain": [
              "'hello UMT'"
            ],
            "application/vnd.google.colaboratory.intrinsic+json": {
              "type": "string"
            }
          },
          "metadata": {},
          "execution_count": 42
        }
      ],
      "source": [
        "p= \"hello UMT\"\n",
        "p"
      ]
    },
    {
      "cell_type": "code",
      "execution_count": 43,
      "metadata": {
        "colab": {
          "base_uri": "https://localhost:8080/"
        },
        "id": "lfubajlyHtDC",
        "outputId": "708fbdbf-4726-466e-deb2-e9461b79d5d1"
      },
      "outputs": [
        {
          "output_type": "execute_result",
          "data": {
            "text/plain": [
              "False"
            ]
          },
          "metadata": {},
          "execution_count": 43
        }
      ],
      "source": [
        "p.isdecimal()"
      ]
    },
    {
      "cell_type": "code",
      "execution_count": 44,
      "metadata": {
        "colab": {
          "base_uri": "https://localhost:8080/"
        },
        "id": "Ph305f0uHtDD",
        "outputId": "91ba5f74-c222-454f-8f58-76836d38aa58"
      },
      "outputs": [
        {
          "output_type": "execute_result",
          "data": {
            "text/plain": [
              "['hello', 'UMT']"
            ]
          },
          "metadata": {},
          "execution_count": 44
        }
      ],
      "source": [
        "p.split()"
      ]
    },
    {
      "cell_type": "code",
      "execution_count": 45,
      "metadata": {
        "colab": {
          "base_uri": "https://localhost:8080/"
        },
        "id": "-i0cqqywHtDD",
        "outputId": "2e80a377-a7fc-4584-9a57-544bc7999cd0"
      },
      "outputs": [
        {
          "output_type": "execute_result",
          "data": {
            "text/plain": [
              "9"
            ]
          },
          "metadata": {},
          "execution_count": 45
        }
      ],
      "source": [
        "len(p)"
      ]
    },
    {
      "cell_type": "code",
      "execution_count": 46,
      "metadata": {
        "colab": {
          "base_uri": "https://localhost:8080/",
          "height": 35
        },
        "id": "4VyITfD6HtDD",
        "outputId": "c41695f0-ff9b-4c5e-cd23-801c52af66d4"
      },
      "outputs": [
        {
          "output_type": "execute_result",
          "data": {
            "text/plain": [
              "'HELLO UMT'"
            ],
            "application/vnd.google.colaboratory.intrinsic+json": {
              "type": "string"
            }
          },
          "metadata": {},
          "execution_count": 46
        }
      ],
      "source": [
        "p.upper()"
      ]
    },
    {
      "cell_type": "code",
      "execution_count": 47,
      "metadata": {
        "colab": {
          "base_uri": "https://localhost:8080/",
          "height": 35
        },
        "id": "29phm3reHtDE",
        "outputId": "a09ef162-32f1-476c-ff80-88e3256da19e"
      },
      "outputs": [
        {
          "output_type": "execute_result",
          "data": {
            "text/plain": [
              "'MY UMT'"
            ],
            "application/vnd.google.colaboratory.intrinsic+json": {
              "type": "string"
            }
          },
          "metadata": {},
          "execution_count": 47
        }
      ],
      "source": [
        "p.replace(\"hello\",\"MY\")\n"
      ]
    },
    {
      "cell_type": "code",
      "execution_count": 48,
      "metadata": {
        "collapsed": true,
        "colab": {
          "base_uri": "https://localhost:8080/",
          "height": 35
        },
        "id": "ID9enIiKHtDE",
        "outputId": "e4f78561-d6bf-4d04-f805-e43faab1fdae"
      },
      "outputs": [
        {
          "output_type": "execute_result",
          "data": {
            "text/plain": [
              "'great'"
            ],
            "application/vnd.google.colaboratory.intrinsic+json": {
              "type": "string"
            }
          },
          "metadata": {},
          "execution_count": 48
        }
      ],
      "source": [
        "p.replace(\"hello UMT\",\"great\")"
      ]
    },
    {
      "cell_type": "markdown",
      "metadata": {
        "id": "jpA53abFHtDE"
      },
      "source": [
        "Built-in Reg. Expressions\n",
        "Strings have some built-in methods that can resemble regular expression operations. We can use split() to split the string at a certain element and return a list of the result. We can use partition to return a tuple that includes the separator (the first occurrence) and the first half and the end half."
      ]
    },
    {
      "cell_type": "code",
      "execution_count": 49,
      "metadata": {
        "colab": {
          "base_uri": "https://localhost:8080/"
        },
        "id": "1RHO4LOKHtDF",
        "outputId": "ab0928a0-870b-48f8-ba50-34f16de4c121"
      },
      "outputs": [
        {
          "output_type": "execute_result",
          "data": {
            "text/plain": [
              "['h', 'llo']"
            ]
          },
          "metadata": {},
          "execution_count": 49
        }
      ],
      "source": [
        "s.split('e')"
      ]
    },
    {
      "cell_type": "code",
      "execution_count": 50,
      "metadata": {
        "colab": {
          "base_uri": "https://localhost:8080/"
        },
        "id": "BSVlslZ9HtDF",
        "outputId": "231057ce-cb57-411f-a662-fc173bc71eee"
      },
      "outputs": [
        {
          "output_type": "execute_result",
          "data": {
            "text/plain": [
              "('h', 'e', 'llo')"
            ]
          },
          "metadata": {},
          "execution_count": 50
        }
      ],
      "source": [
        "s.partition('e')"
      ]
    },
    {
      "cell_type": "markdown",
      "metadata": {
        "id": "CJV4vXQrHtDF"
      },
      "source": [
        "# list\n",
        "List in Python are an ordered sequence of any kind of object, and are one of the workhorse data structures.\n",
        "List Objects\n",
        "You create a list by putting square brackets around a comma-separated list of other Python items"
      ]
    },
    {
      "cell_type": "code",
      "execution_count": 51,
      "metadata": {
        "colab": {
          "base_uri": "https://localhost:8080/"
        },
        "id": "v9BCQrj_HtDG",
        "outputId": "7e2dbfdd-02ac-4862-9f17-1292f3df513c"
      },
      "outputs": [
        {
          "output_type": "execute_result",
          "data": {
            "text/plain": [
              "['a', 'b', 'c']"
            ]
          },
          "metadata": {},
          "execution_count": 51
        }
      ],
      "source": [
        "my_list=['a','b','c']\n",
        "my_list"
      ]
    },
    {
      "cell_type": "code",
      "execution_count": 52,
      "metadata": {
        "colab": {
          "base_uri": "https://localhost:8080/"
        },
        "id": "xuYgKKsTHtDG",
        "outputId": "b919d1bd-06dd-42fa-c5b7-ddcb173cdeee"
      },
      "outputs": [
        {
          "output_type": "stream",
          "name": "stdout",
          "text": [
            "[1, 2.0, 3, 'my']\n"
          ]
        }
      ],
      "source": [
        "lst = [1, 2.0, 3, 'my']\n",
        "print (lst)"
      ]
    },
    {
      "cell_type": "code",
      "execution_count": 56,
      "metadata": {
        "colab": {
          "base_uri": "https://localhost:8080/"
        },
        "id": "n7uj1ljJHtDG",
        "outputId": "ec8e4974-3964-443b-8772-388fefde7498"
      },
      "outputs": [
        {
          "output_type": "execute_result",
          "data": {
            "text/plain": [
              "[1, 2.0, 3, 'my', 1, 2.0, 3, 'my', 1, 2.0, 3, 'my']"
            ]
          },
          "metadata": {},
          "execution_count": 56
        }
      ],
      "source": [
        "lst * 3"
      ]
    },
    {
      "cell_type": "code",
      "execution_count": 57,
      "metadata": {
        "colab": {
          "base_uri": "https://localhost:8080/"
        },
        "id": "rINZH-t3HtDH",
        "outputId": "4f1a13a3-c476-4e3f-d719-a57729da1022"
      },
      "outputs": [
        {
          "output_type": "execute_result",
          "data": {
            "text/plain": [
              "[1, 2.0, 3, 'my', 1, 2.0, 3, 'my']"
            ]
          },
          "metadata": {},
          "execution_count": 57
        }
      ],
      "source": [
        "lst + lst"
      ]
    },
    {
      "cell_type": "code",
      "execution_count": 58,
      "metadata": {
        "colab": {
          "base_uri": "https://localhost:8080/"
        },
        "id": "GbvW6n_nHtDH",
        "outputId": "abaedb5b-b541-4789-ad3e-d6edc3715dbc"
      },
      "outputs": [
        {
          "output_type": "execute_result",
          "data": {
            "text/plain": [
              "1"
            ]
          },
          "metadata": {},
          "execution_count": 58
        }
      ],
      "source": [
        "lst[0]"
      ]
    },
    {
      "cell_type": "code",
      "execution_count": 69,
      "metadata": {
        "colab": {
          "base_uri": "https://localhost:8080/"
        },
        "id": "fNAvDchgHtDI",
        "outputId": "42368465-c067-4565-817e-dbfb94c9d917"
      },
      "outputs": [
        {
          "output_type": "execute_result",
          "data": {
            "text/plain": [
              "[1, 2.0]"
            ]
          },
          "metadata": {},
          "execution_count": 69
        }
      ],
      "source": [
        "lst[0:]"
      ]
    },
    {
      "cell_type": "code",
      "execution_count": 70,
      "metadata": {
        "colab": {
          "base_uri": "https://localhost:8080/"
        },
        "id": "oQQecJGZHtDI",
        "outputId": "be638d86-41de-4fe7-b2bc-57ac7d6f65bc"
      },
      "outputs": [
        {
          "output_type": "execute_result",
          "data": {
            "text/plain": [
              "2"
            ]
          },
          "metadata": {},
          "execution_count": 70
        }
      ],
      "source": [
        "len(lst)"
      ]
    },
    {
      "cell_type": "code",
      "execution_count": 61,
      "metadata": {
        "colab": {
          "base_uri": "https://localhost:8080/"
        },
        "id": "MGIrcePkHtDJ",
        "outputId": "960a55dc-daaf-473b-c3eb-56eed94dab66"
      },
      "outputs": [
        {
          "output_type": "execute_result",
          "data": {
            "text/plain": [
              "list"
            ]
          },
          "metadata": {},
          "execution_count": 61
        }
      ],
      "source": [
        "type(lst)"
      ]
    },
    {
      "cell_type": "code",
      "execution_count": 68,
      "metadata": {
        "colab": {
          "base_uri": "https://localhost:8080/",
          "height": 201
        },
        "id": "2mpv1wywHtDK",
        "outputId": "4d7f1f4d-a445-45d5-955a-c3e16fe6c346"
      },
      "outputs": [
        {
          "output_type": "error",
          "ename": "IndexError",
          "evalue": "ignored",
          "traceback": [
            "\u001b[0;31m---------------------------------------------------------------------------\u001b[0m",
            "\u001b[0;31mIndexError\u001b[0m                                Traceback (most recent call last)",
            "\u001b[0;32m<ipython-input-68-2b55a9bcfa72>\u001b[0m in \u001b[0;36m<cell line: 1>\u001b[0;34m()\u001b[0m\n\u001b[0;32m----> 1\u001b[0;31m \u001b[0mlst\u001b[0m\u001b[0;34m.\u001b[0m\u001b[0mpop\u001b[0m\u001b[0;34m(\u001b[0m\u001b[0;36m2\u001b[0m\u001b[0;34m)\u001b[0m\u001b[0;34m\u001b[0m\u001b[0;34m\u001b[0m\u001b[0m\n\u001b[0m\u001b[1;32m      2\u001b[0m \u001b[0mlst\u001b[0m\u001b[0;34m\u001b[0m\u001b[0;34m\u001b[0m\u001b[0m\n\u001b[1;32m      3\u001b[0m \u001b[0;34m\u001b[0m\u001b[0m\n",
            "\u001b[0;31mIndexError\u001b[0m: pop index out of range"
          ]
        }
      ],
      "source": [
        "lst.pop(2)\n",
        "lst\n",
        "\n"
      ]
    },
    {
      "cell_type": "code",
      "execution_count": 72,
      "metadata": {
        "colab": {
          "base_uri": "https://localhost:8080/"
        },
        "id": "igRmVv3jHtDK",
        "outputId": "dfed5339-ee29-4a4e-ec5a-44c5c1a9e94d"
      },
      "outputs": [
        {
          "output_type": "execute_result",
          "data": {
            "text/plain": [
              "[2.0]"
            ]
          },
          "metadata": {},
          "execution_count": 72
        }
      ],
      "source": [
        "del lst[0]\n",
        "lst"
      ]
    },
    {
      "cell_type": "code",
      "execution_count": 73,
      "metadata": {
        "colab": {
          "base_uri": "https://localhost:8080/"
        },
        "id": "wV-XPiokHtDK",
        "outputId": "d5f57fea-2c1d-41fa-fc58-6b42418574dc"
      },
      "outputs": [
        {
          "output_type": "execute_result",
          "data": {
            "text/plain": [
              "False"
            ]
          },
          "metadata": {},
          "execution_count": 73
        }
      ],
      "source": [
        "1 in lst"
      ]
    },
    {
      "cell_type": "code",
      "execution_count": 74,
      "metadata": {
        "colab": {
          "base_uri": "https://localhost:8080/"
        },
        "id": "YZ2UdTDEHtDL",
        "outputId": "baab3f8e-75f1-40ed-8632-a8234dd9a404"
      },
      "outputs": [
        {
          "output_type": "execute_result",
          "data": {
            "text/plain": [
              "True"
            ]
          },
          "metadata": {},
          "execution_count": 74
        }
      ],
      "source": [
        "2 in lst"
      ]
    },
    {
      "cell_type": "code",
      "execution_count": 75,
      "metadata": {
        "collapsed": true,
        "id": "aW9-ws2nHtDL"
      },
      "outputs": [],
      "source": [
        "l = [1,2,3]"
      ]
    },
    {
      "cell_type": "code",
      "execution_count": 78,
      "metadata": {
        "colab": {
          "base_uri": "https://localhost:8080/"
        },
        "id": "1PlNE7akHtDL",
        "outputId": "88ba24eb-3854-45ca-8167-595a8ea2c30f"
      },
      "outputs": [
        {
          "output_type": "execute_result",
          "data": {
            "text/plain": [
              "[1, 2, 3, 4, 2]"
            ]
          },
          "metadata": {},
          "execution_count": 78
        }
      ],
      "source": [
        "l.append(2)\n",
        "l"
      ]
    },
    {
      "cell_type": "code",
      "execution_count": 79,
      "metadata": {
        "colab": {
          "base_uri": "https://localhost:8080/"
        },
        "id": "BWMphloFHtDM",
        "outputId": "38c11302-ed8e-4750-e37e-302cb12c2ecc"
      },
      "outputs": [
        {
          "output_type": "execute_result",
          "data": {
            "text/plain": [
              "2"
            ]
          },
          "metadata": {},
          "execution_count": 79
        }
      ],
      "source": [
        "l.count(2)"
      ]
    },
    {
      "cell_type": "markdown",
      "metadata": {
        "id": "86P5uWG_HtDM"
      },
      "source": [
        "##extend\n",
        "Many times people find the difference between extend and append to be unclear. So note:\n",
        "\n",
        "**append: Appends object at end**"
      ]
    },
    {
      "cell_type": "code",
      "execution_count": 85,
      "metadata": {
        "colab": {
          "base_uri": "https://localhost:8080/"
        },
        "id": "kRQxGwTGHtDM",
        "outputId": "7956fbea-daa6-46bf-c7a9-2570221fcc12"
      },
      "outputs": [
        {
          "output_type": "stream",
          "name": "stdout",
          "text": [
            "[1, 2, 3, [4, 5]]\n"
          ]
        }
      ],
      "source": [
        "x = [1, 2, 3]\n",
        "x.append([4,5])\n",
        "print (x)"
      ]
    },
    {
      "cell_type": "code",
      "execution_count": 90,
      "metadata": {
        "colab": {
          "base_uri": "https://localhost:8080/"
        },
        "id": "aTLBAVPkHtDN",
        "outputId": "3c71afd2-d2ad-420b-ecc8-f8e55c6f0366"
      },
      "outputs": [
        {
          "output_type": "stream",
          "name": "stdout",
          "text": [
            "[1, 2, 3, 4, 5]\n"
          ]
        }
      ],
      "source": [
        "x = [1, 2, 3]\n",
        "x.extend([4,5])\n",
        "print (x)"
      ]
    },
    {
      "cell_type": "code",
      "execution_count": 91,
      "metadata": {
        "colab": {
          "base_uri": "https://localhost:8080/"
        },
        "id": "Yob5ripkHtDN",
        "outputId": "81d28115-31f5-4acf-f3b4-b906d59ee032"
      },
      "outputs": [
        {
          "output_type": "execute_result",
          "data": {
            "text/plain": [
              "[1, 2, 'inserted', 3, 4, 2]"
            ]
          },
          "metadata": {},
          "execution_count": 91
        }
      ],
      "source": [
        "# Place a letter at the index 2\n",
        "l.insert(2,'inserted')\n",
        "l"
      ]
    },
    {
      "cell_type": "code",
      "execution_count": 102,
      "metadata": {
        "colab": {
          "base_uri": "https://localhost:8080/",
          "height": 183
        },
        "id": "InhNDyJkHtDN",
        "outputId": "7d0b01d8-da62-42ae-e5a3-d2976649d063"
      },
      "outputs": [
        {
          "output_type": "error",
          "ename": "ValueError",
          "evalue": "ignored",
          "traceback": [
            "\u001b[0;31m---------------------------------------------------------------------------\u001b[0m",
            "\u001b[0;31mValueError\u001b[0m                                Traceback (most recent call last)",
            "\u001b[0;32m<ipython-input-102-8a656a1d9522>\u001b[0m in \u001b[0;36m<cell line: 1>\u001b[0;34m()\u001b[0m\n\u001b[0;32m----> 1\u001b[0;31m \u001b[0ml\u001b[0m\u001b[0;34m.\u001b[0m\u001b[0mremove\u001b[0m\u001b[0;34m(\u001b[0m\u001b[0;34m[\u001b[0m\u001b[0;34m'1'\u001b[0m\u001b[0;34m]\u001b[0m\u001b[0;34m)\u001b[0m\u001b[0;34m\u001b[0m\u001b[0;34m\u001b[0m\u001b[0m\n\u001b[0m\u001b[1;32m      2\u001b[0m \u001b[0ml\u001b[0m\u001b[0;34m\u001b[0m\u001b[0;34m\u001b[0m\u001b[0m\n",
            "\u001b[0;31mValueError\u001b[0m: list.remove(x): x not in list"
          ]
        }
      ],
      "source": [
        "l.remove(['1'])\n",
        "l"
      ]
    },
    {
      "cell_type": "code",
      "execution_count": 103,
      "metadata": {
        "colab": {
          "base_uri": "https://localhost:8080/"
        },
        "id": "is0AxfxzHtDO",
        "outputId": "a876545e-204c-46dc-e618-9c20f5550afa"
      },
      "outputs": [
        {
          "output_type": "execute_result",
          "data": {
            "text/plain": [
              "[1, 2, 3, 4, 2]"
            ]
          },
          "metadata": {},
          "execution_count": 103
        }
      ],
      "source": [
        "l.reverse()\n",
        "l"
      ]
    },
    {
      "cell_type": "code",
      "execution_count": 104,
      "metadata": {
        "colab": {
          "base_uri": "https://localhost:8080/"
        },
        "id": "4wk3QtROHtDO",
        "outputId": "65f88011-8488-4720-dd0a-1476fa4d521a"
      },
      "outputs": [
        {
          "output_type": "execute_result",
          "data": {
            "text/plain": [
              "[1, 2, 2, 3, 4]"
            ]
          },
          "metadata": {},
          "execution_count": 104
        }
      ],
      "source": [
        "l.sort()\n",
        "l"
      ]
    },
    {
      "cell_type": "code",
      "execution_count": 106,
      "metadata": {
        "colab": {
          "base_uri": "https://localhost:8080/"
        },
        "id": "onxA72TmHtDO",
        "outputId": "251d9eeb-f87e-45bd-8d38-83a2d35ab26d"
      },
      "outputs": [
        {
          "output_type": "execute_result",
          "data": {
            "text/plain": [
              "[1, 2, [4, 5]]"
            ]
          },
          "metadata": {},
          "execution_count": 106
        }
      ],
      "source": [
        "nest=[1,2,[4,5]]\n",
        "nest"
      ]
    },
    {
      "cell_type": "code",
      "execution_count": 107,
      "metadata": {
        "colab": {
          "base_uri": "https://localhost:8080/"
        },
        "id": "5vTGioKdHtDP",
        "outputId": "5b26411e-3241-4115-9169-2ce34f4e6b7b"
      },
      "outputs": [
        {
          "output_type": "execute_result",
          "data": {
            "text/plain": [
              "[4, 5]"
            ]
          },
          "metadata": {},
          "execution_count": 107
        }
      ],
      "source": [
        "nest[2]"
      ]
    },
    {
      "cell_type": "code",
      "source": [],
      "metadata": {
        "id": "Qxr_sykJN6VK"
      },
      "execution_count": null,
      "outputs": []
    },
    {
      "cell_type": "code",
      "source": [],
      "metadata": {
        "id": "tOwLnCk0N6PH"
      },
      "execution_count": null,
      "outputs": []
    },
    {
      "cell_type": "code",
      "execution_count": 108,
      "metadata": {
        "colab": {
          "base_uri": "https://localhost:8080/"
        },
        "id": "tbEzFN06HtDP",
        "outputId": "6b562a25-c12c-4c9e-dfda-5f9edb5bf547"
      },
      "outputs": [
        {
          "output_type": "execute_result",
          "data": {
            "text/plain": [
              "4"
            ]
          },
          "metadata": {},
          "execution_count": 108
        }
      ],
      "source": [
        "nest[2][0]"
      ]
    },
    {
      "cell_type": "markdown",
      "metadata": {
        "id": "xbD3wqcNHtDP"
      },
      "source": [
        "# set \n",
        "# Python also provides the set data structure, which can be created using curly brackets.Collection of unique things\n",
        "\n"
      ]
    },
    {
      "cell_type": "markdown",
      "source": [
        "a={1,8,4,6,'g'}\n",
        "a"
      ],
      "metadata": {
        "id": "jfdO_m5HHtDQ"
      }
    },
    {
      "cell_type": "code",
      "execution_count": 118,
      "metadata": {
        "colab": {
          "base_uri": "https://localhost:8080/"
        },
        "id": "xbbwxALSHtDQ",
        "outputId": "4b373db6-9031-4d1f-87ba-425ba88890f7"
      },
      "outputs": [
        {
          "output_type": "execute_result",
          "data": {
            "text/plain": [
              "{1, 2, 3}"
            ]
          },
          "metadata": {},
          "execution_count": 118
        }
      ],
      "source": [
        "{1,1,1,2,2,2,3,3,3}"
      ]
    },
    {
      "cell_type": "code",
      "execution_count": 119,
      "metadata": {
        "colab": {
          "base_uri": "https://localhost:8080/"
        },
        "id": "QeBgJxtoHtDQ",
        "outputId": "272043dd-eb36-4ce0-bf2c-60fe1249b03e"
      },
      "outputs": [
        {
          "output_type": "execute_result",
          "data": {
            "text/plain": [
              "{2, 3, 4, 5}"
            ]
          },
          "metadata": {},
          "execution_count": 119
        }
      ],
      "source": [
        "b = {2, 3, 4, 5}\n",
        "b"
      ]
    },
    {
      "cell_type": "code",
      "execution_count": 120,
      "metadata": {
        "colab": {
          "base_uri": "https://localhost:8080/"
        },
        "id": "pTFw0YNHHtDR",
        "outputId": "7e9725c1-8b9c-4604-c8e5-2fcb850ffd4c"
      },
      "outputs": [
        {
          "output_type": "execute_result",
          "data": {
            "text/plain": [
              "{1, 4, 6, 8, 9, 'g'}"
            ]
          },
          "metadata": {},
          "execution_count": 120
        }
      ],
      "source": [
        "a.add(9)\n",
        "a"
      ]
    },
    {
      "cell_type": "code",
      "execution_count": 121,
      "metadata": {
        "colab": {
          "base_uri": "https://localhost:8080/"
        },
        "id": "pL4w2vofHtDR",
        "outputId": "7b41ab5c-fe99-4aaf-cd8c-801641129fc6"
      },
      "outputs": [
        {
          "output_type": "execute_result",
          "data": {
            "text/plain": [
              "{4}"
            ]
          },
          "metadata": {},
          "execution_count": 121
        }
      ],
      "source": [
        "a & b"
      ]
    },
    {
      "cell_type": "code",
      "execution_count": 122,
      "metadata": {
        "colab": {
          "base_uri": "https://localhost:8080/"
        },
        "id": "uyIBzm9tHtDR",
        "outputId": "b6522ad6-5684-4761-a22c-7ec18f4b68de"
      },
      "outputs": [
        {
          "output_type": "execute_result",
          "data": {
            "text/plain": [
              "{1, 2, 3, 4, 5, 6, 8, 9, 'g'}"
            ]
          },
          "metadata": {},
          "execution_count": 122
        }
      ],
      "source": [
        "a | b"
      ]
    },
    {
      "cell_type": "code",
      "execution_count": 123,
      "metadata": {
        "colab": {
          "base_uri": "https://localhost:8080/"
        },
        "id": "MB88wWMNHtDS",
        "outputId": "891a7a34-6022-4be3-ab74-c83e82d27a1d"
      },
      "outputs": [
        {
          "output_type": "execute_result",
          "data": {
            "text/plain": [
              "{1, 2, 3, 5, 6, 8, 9, 'g'}"
            ]
          },
          "metadata": {},
          "execution_count": 123
        }
      ],
      "source": [
        "a ^ b"
      ]
    },
    {
      "cell_type": "markdown",
      "metadata": {
        "id": "BOkxWOBmHtDS"
      },
      "source": [
        "# Dictionaries\n",
        "If you're familiar with the computer science \"hash\" or \"map\" data structures, a dictionary is essentially the Python equivalent of those.\n",
        "For those unfamiliar with Python dictionaries, we can use an actual dictionary as a mental model. In a dictionary you have words, and those words have definitions that are associated with them. You might have multiple definitions, but they are all associated with one word's entry in the dictionary.\n",
        "This maps to the data structure very well: each entry is a key-value pair, where the keys are the words, and the values are the definitions. If there are multiple definitions, you might instead have a list of definitions instead of a single definition for the value, but the idea is the same.\n",
        "So in Python we can create an empty dictionary with a pair of braces (curly brackets):"
      ]
    },
    {
      "cell_type": "code",
      "execution_count": 125,
      "metadata": {
        "colab": {
          "base_uri": "https://localhost:8080/"
        },
        "id": "wIoANbvnHtDS",
        "outputId": "0a03e257-9fd6-4ad3-8974-ffb561d255b4"
      },
      "outputs": [
        {
          "output_type": "execute_result",
          "data": {
            "text/plain": [
              "{'key1': 'value', 'key2': 123}"
            ]
          },
          "metadata": {},
          "execution_count": 125
        }
      ],
      "source": [
        "d={'key1':'value','key2':123}\n",
        "d"
      ]
    },
    {
      "cell_type": "code",
      "execution_count": 127,
      "metadata": {
        "colab": {
          "base_uri": "https://localhost:8080/",
          "height": 166
        },
        "id": "Zai3rsf5HtDT",
        "outputId": "befa94be-34cc-4b78-f815-266c4d3c059a"
      },
      "outputs": [
        {
          "output_type": "error",
          "ename": "KeyError",
          "evalue": "ignored",
          "traceback": [
            "\u001b[0;31m---------------------------------------------------------------------------\u001b[0m",
            "\u001b[0;31mKeyError\u001b[0m                                  Traceback (most recent call last)",
            "\u001b[0;32m<ipython-input-127-abe283337115>\u001b[0m in \u001b[0;36m<cell line: 1>\u001b[0;34m()\u001b[0m\n\u001b[0;32m----> 1\u001b[0;31m \u001b[0md\u001b[0m\u001b[0;34m[\u001b[0m\u001b[0;36m1\u001b[0m\u001b[0;34m]\u001b[0m\u001b[0;34m\u001b[0m\u001b[0;34m\u001b[0m\u001b[0m\n\u001b[0m",
            "\u001b[0;31mKeyError\u001b[0m: 1"
          ]
        }
      ],
      "source": [
        "d[1]"
      ]
    },
    {
      "cell_type": "code",
      "execution_count": 128,
      "metadata": {
        "colab": {
          "base_uri": "https://localhost:8080/"
        },
        "id": "_qZUw-wlHtDT",
        "outputId": "641111b0-0301-459a-b276-9ac4d4bebe22"
      },
      "outputs": [
        {
          "output_type": "execute_result",
          "data": {
            "text/plain": [
              "123"
            ]
          },
          "metadata": {},
          "execution_count": 128
        }
      ],
      "source": [
        "d['key2']"
      ]
    },
    {
      "cell_type": "code",
      "execution_count": 129,
      "metadata": {
        "colab": {
          "base_uri": "https://localhost:8080/"
        },
        "id": "2yM768M7HtDT",
        "outputId": "d8936a81-b73d-4e08-a482-6d4c9fa79d3d"
      },
      "outputs": [
        {
          "output_type": "execute_result",
          "data": {
            "text/plain": [
              "{'k1': [1, 2, 3]}"
            ]
          },
          "metadata": {},
          "execution_count": 129
        }
      ],
      "source": [
        "d={'k1':[1,2,3]}\n",
        "d"
      ]
    },
    {
      "cell_type": "code",
      "execution_count": 130,
      "metadata": {
        "colab": {
          "base_uri": "https://localhost:8080/"
        },
        "id": "WifJXIZ5HtDU",
        "outputId": "77d8badd-1f2e-4b41-ecdf-789cf8856314"
      },
      "outputs": [
        {
          "output_type": "execute_result",
          "data": {
            "text/plain": [
              "[1, 2, 3]"
            ]
          },
          "metadata": {},
          "execution_count": 130
        }
      ],
      "source": [
        "d['k1']"
      ]
    },
    {
      "cell_type": "code",
      "execution_count": 131,
      "metadata": {
        "colab": {
          "base_uri": "https://localhost:8080/"
        },
        "id": "OO4WPcYbHtDU",
        "outputId": "91a1f287-0aba-48f9-c744-01c324aea76c"
      },
      "outputs": [
        {
          "output_type": "execute_result",
          "data": {
            "text/plain": [
              "3"
            ]
          },
          "metadata": {},
          "execution_count": 131
        }
      ],
      "source": [
        "d['k1'][2]"
      ]
    },
    {
      "cell_type": "code",
      "execution_count": 132,
      "metadata": {
        "colab": {
          "base_uri": "https://localhost:8080/"
        },
        "id": "gXc9wME_HtDY",
        "outputId": "ed5c4857-ff37-4c5c-b1a7-f8a79f88d99c"
      },
      "outputs": [
        {
          "output_type": "execute_result",
          "data": {
            "text/plain": [
              "{'innerkey': [1, 2, 3]}"
            ]
          },
          "metadata": {},
          "execution_count": 132
        }
      ],
      "source": [
        "#Dictionary Nested with other dictionary \n",
        "d={'k1':{'innerkey':[1,2,3]}}\n",
        "d['k1']"
      ]
    },
    {
      "cell_type": "code",
      "execution_count": 133,
      "metadata": {
        "colab": {
          "base_uri": "https://localhost:8080/"
        },
        "id": "h_rooIVRHtDY",
        "outputId": "568c91d3-144f-40bb-9b12-83cb66f845d9"
      },
      "outputs": [
        {
          "output_type": "execute_result",
          "data": {
            "text/plain": [
              "[1, 2, 3]"
            ]
          },
          "metadata": {},
          "execution_count": 133
        }
      ],
      "source": [
        "d['k1']['innerkey']"
      ]
    },
    {
      "cell_type": "code",
      "execution_count": 134,
      "metadata": {
        "colab": {
          "base_uri": "https://localhost:8080/"
        },
        "id": "SKiVYFDIHtDY",
        "outputId": "004894a3-b0da-4676-9861-21574d99c17c"
      },
      "outputs": [
        {
          "output_type": "execute_result",
          "data": {
            "text/plain": [
              "2"
            ]
          },
          "metadata": {},
          "execution_count": 134
        }
      ],
      "source": [
        "d['k1']['innerkey'][1]"
      ]
    },
    {
      "cell_type": "code",
      "execution_count": 135,
      "metadata": {
        "colab": {
          "base_uri": "https://localhost:8080/"
        },
        "id": "LnxqQj9qHtDZ",
        "outputId": "9efe0362-f603-4d35-ea87-c59b5be58ac8"
      },
      "outputs": [
        {
          "output_type": "execute_result",
          "data": {
            "text/plain": [
              "{'dogs': 5, 'cats': 4}"
            ]
          },
          "metadata": {},
          "execution_count": 135
        }
      ],
      "source": [
        "pets = {'dogs':5, 'cats':4}\n",
        "pets"
      ]
    },
    {
      "cell_type": "code",
      "execution_count": 136,
      "metadata": {
        "colab": {
          "base_uri": "https://localhost:8080/"
        },
        "id": "8fkziIhtHtDZ",
        "outputId": "0895bdec-96d0-4d48-caa7-acf57e3c061e"
      },
      "outputs": [
        {
          "output_type": "execute_result",
          "data": {
            "text/plain": [
              "2"
            ]
          },
          "metadata": {},
          "execution_count": 136
        }
      ],
      "source": [
        "len(pets)"
      ]
    },
    {
      "cell_type": "code",
      "execution_count": 137,
      "metadata": {
        "colab": {
          "base_uri": "https://localhost:8080/"
        },
        "id": "o4IxoY4VHtDZ",
        "outputId": "b4ce12a0-e8ec-4644-880b-34bca5693415"
      },
      "outputs": [
        {
          "output_type": "execute_result",
          "data": {
            "text/plain": [
              "5"
            ]
          },
          "metadata": {},
          "execution_count": 137
        }
      ],
      "source": [
        "pets['dogs']"
      ]
    },
    {
      "cell_type": "code",
      "execution_count": 138,
      "metadata": {
        "colab": {
          "base_uri": "https://localhost:8080/"
        },
        "id": "KvrT98vWHtDZ",
        "outputId": "f4fd50a1-b7ef-4d78-a6e2-a4ec6b16545d"
      },
      "outputs": [
        {
          "output_type": "execute_result",
          "data": {
            "text/plain": [
              "{'dogs': 7, 'cats': 4}"
            ]
          },
          "metadata": {},
          "execution_count": 138
        }
      ],
      "source": [
        "pets['dogs'] += 2\n",
        "pets"
      ]
    },
    {
      "cell_type": "code",
      "execution_count": 139,
      "metadata": {
        "colab": {
          "base_uri": "https://localhost:8080/"
        },
        "id": "zJT5MY_HHtDZ",
        "outputId": "29eb4fe1-1a15-4409-bc8d-349e7ae94c46"
      },
      "outputs": [
        {
          "output_type": "execute_result",
          "data": {
            "text/plain": [
              "{'dogs': 7, 'cats': 4, 'fox': 3}"
            ]
          },
          "metadata": {},
          "execution_count": 139
        }
      ],
      "source": [
        "pets['fox'] = 3\n",
        "pets"
      ]
    },
    {
      "cell_type": "code",
      "execution_count": 140,
      "metadata": {
        "colab": {
          "base_uri": "https://localhost:8080/"
        },
        "id": "_cJXS98THtDa",
        "outputId": "47f1c5ba-9d6e-495a-fbf9-74ed4787d839"
      },
      "outputs": [
        {
          "output_type": "execute_result",
          "data": {
            "text/plain": [
              "dict_keys(['dogs', 'cats', 'fox'])"
            ]
          },
          "metadata": {},
          "execution_count": 140
        }
      ],
      "source": [
        "pets.keys()"
      ]
    },
    {
      "cell_type": "code",
      "execution_count": 141,
      "metadata": {
        "colab": {
          "base_uri": "https://localhost:8080/"
        },
        "id": "Hq2rZVjFHtDa",
        "outputId": "0992883d-4c81-48b1-86ab-d2af45bcc1bc"
      },
      "outputs": [
        {
          "output_type": "execute_result",
          "data": {
            "text/plain": [
              "dict_items([('dogs', 7), ('cats', 4), ('fox', 3)])"
            ]
          },
          "metadata": {},
          "execution_count": 141
        }
      ],
      "source": [
        "pets.items()"
      ]
    },
    {
      "cell_type": "code",
      "execution_count": 142,
      "metadata": {
        "colab": {
          "base_uri": "https://localhost:8080/"
        },
        "id": "tIIHh5kXHtDa",
        "outputId": "4dca9de4-8391-46e3-c4be-b5adb0d1ca5c"
      },
      "outputs": [
        {
          "output_type": "execute_result",
          "data": {
            "text/plain": [
              "dict_values([7, 4, 3])"
            ]
          },
          "metadata": {},
          "execution_count": 142
        }
      ],
      "source": [
        "pets.values()"
      ]
    },
    {
      "cell_type": "code",
      "execution_count": 143,
      "metadata": {
        "colab": {
          "base_uri": "https://localhost:8080/"
        },
        "id": "JtZtxxcuHtDa",
        "outputId": "b34bf929-baf8-4df3-f9e1-55b9cacf26ee"
      },
      "outputs": [
        {
          "output_type": "execute_result",
          "data": {
            "text/plain": [
              "True"
            ]
          },
          "metadata": {},
          "execution_count": 143
        }
      ],
      "source": [
        "'cats' in pets"
      ]
    },
    {
      "cell_type": "code",
      "execution_count": 144,
      "metadata": {
        "colab": {
          "base_uri": "https://localhost:8080/"
        },
        "id": "O_nmAZ_nHtDa",
        "outputId": "d30afdf6-eabd-466f-c1ae-dec33a611148"
      },
      "outputs": [
        {
          "output_type": "execute_result",
          "data": {
            "text/plain": [
              "False"
            ]
          },
          "metadata": {},
          "execution_count": 144
        }
      ],
      "source": [
        "'cats' not in pets"
      ]
    },
    {
      "cell_type": "code",
      "execution_count": 145,
      "metadata": {
        "colab": {
          "base_uri": "https://localhost:8080/"
        },
        "id": "UgNBbMmcHtDb",
        "outputId": "85b921f2-5f04-4668-cd37-cdf4f39e72ed"
      },
      "outputs": [
        {
          "output_type": "execute_result",
          "data": {
            "text/plain": [
              "{'1': 'Ahmad', '2': 'Ali'}"
            ]
          },
          "metadata": {},
          "execution_count": 145
        }
      ],
      "source": [
        "student = {}\n",
        "student['1']='Ahmad'\n",
        "student['2']='Ali'\n",
        "student"
      ]
    },
    {
      "cell_type": "markdown",
      "metadata": {
        "id": "GXHYotEzHtDb"
      },
      "source": [
        "student"
      ]
    },
    {
      "cell_type": "markdown",
      "metadata": {
        "id": "4Gqo9WhqHtDb"
      },
      "source": [
        "# Accessing items with get()\n",
        "You can instead access values with the get() method which has a little more capability. Get returns the value associated with a key, like indexing, but if the key doesn't exist it doesn't raise an error, but instead returns a default value None."
      ]
    },
    {
      "cell_type": "code",
      "source": [
        "  "
      ],
      "metadata": {
        "id": "6yteZzYRla0e"
      },
      "execution_count": null,
      "outputs": []
    },
    {
      "cell_type": "code",
      "execution_count": 147,
      "metadata": {
        "colab": {
          "base_uri": "https://localhost:8080/"
        },
        "id": "43I2J1glHtDb",
        "outputId": "9d55f99b-dd4b-4b5e-8a6c-dbaf7c620027"
      },
      "outputs": [
        {
          "output_type": "stream",
          "name": "stdout",
          "text": [
            "Ali\n"
          ]
        }
      ],
      "source": [
        "print (student.get('2'))"
      ]
    },
    {
      "cell_type": "code",
      "execution_count": 148,
      "metadata": {
        "colab": {
          "base_uri": "https://localhost:8080/"
        },
        "id": "S7EJ9B_zHtDb",
        "outputId": "d59370c4-2fdc-42d9-c176-e5068bc1d1bd"
      },
      "outputs": [
        {
          "output_type": "stream",
          "name": "stdout",
          "text": [
            "Ahmad\n",
            "yes\n"
          ]
        }
      ],
      "source": [
        "print (student.get('1','yes'))\n",
        "print (student.get('3','yes'))"
      ]
    },
    {
      "cell_type": "code",
      "execution_count": 149,
      "metadata": {
        "collapsed": true,
        "colab": {
          "base_uri": "https://localhost:8080/"
        },
        "id": "4ufoY3TSHtDb",
        "outputId": "8afa0f14-aa5f-4470-f060-d92b6dc09dbb"
      },
      "outputs": [
        {
          "output_type": "execute_result",
          "data": {
            "text/plain": [
              "['__class__',\n",
              " '__class_getitem__',\n",
              " '__contains__',\n",
              " '__delattr__',\n",
              " '__delitem__',\n",
              " '__dir__',\n",
              " '__doc__',\n",
              " '__eq__',\n",
              " '__format__',\n",
              " '__ge__',\n",
              " '__getattribute__',\n",
              " '__getitem__',\n",
              " '__gt__',\n",
              " '__hash__',\n",
              " '__init__',\n",
              " '__init_subclass__',\n",
              " '__ior__',\n",
              " '__iter__',\n",
              " '__le__',\n",
              " '__len__',\n",
              " '__lt__',\n",
              " '__ne__',\n",
              " '__new__',\n",
              " '__or__',\n",
              " '__reduce__',\n",
              " '__reduce_ex__',\n",
              " '__repr__',\n",
              " '__reversed__',\n",
              " '__ror__',\n",
              " '__setattr__',\n",
              " '__setitem__',\n",
              " '__sizeof__',\n",
              " '__str__',\n",
              " '__subclasshook__',\n",
              " 'clear',\n",
              " 'copy',\n",
              " 'fromkeys',\n",
              " 'get',\n",
              " 'items',\n",
              " 'keys',\n",
              " 'pop',\n",
              " 'popitem',\n",
              " 'setdefault',\n",
              " 'update',\n",
              " 'values']"
            ]
          },
          "metadata": {},
          "execution_count": 149
        }
      ],
      "source": [
        "dir(pets)"
      ]
    },
    {
      "cell_type": "markdown",
      "metadata": {
        "id": "uST01WU_HtDc"
      },
      "source": [
        "# next task"
      ]
    },
    {
      "cell_type": "markdown",
      "metadata": {
        "collapsed": true,
        "id": "YKcbAa9pHtDc"
      },
      "source": [
        "# Tuple \n",
        "Declared with parentheis tuple is immutable"
      ]
    },
    {
      "cell_type": "code",
      "execution_count": 150,
      "metadata": {
        "colab": {
          "base_uri": "https://localhost:8080/"
        },
        "id": "kBeuqkpPHtDc",
        "outputId": "ed68ffc6-8fbd-48a8-8e96-a47f0afc50d7"
      },
      "outputs": [
        {
          "output_type": "execute_result",
          "data": {
            "text/plain": [
              "1"
            ]
          },
          "metadata": {},
          "execution_count": 150
        }
      ],
      "source": [
        "t= (1,2,3)\n",
        "t[0]"
      ]
    },
    {
      "cell_type": "code",
      "execution_count": 151,
      "metadata": {
        "colab": {
          "base_uri": "https://localhost:8080/",
          "height": 166
        },
        "id": "C-HR9cjiHtDc",
        "outputId": "68b7a846-21ab-40a1-ff55-a0db4bd02256"
      },
      "outputs": [
        {
          "output_type": "error",
          "ename": "TypeError",
          "evalue": "ignored",
          "traceback": [
            "\u001b[0;31m---------------------------------------------------------------------------\u001b[0m",
            "\u001b[0;31mTypeError\u001b[0m                                 Traceback (most recent call last)",
            "\u001b[0;32m<ipython-input-151-3d8cb7a6b01a>\u001b[0m in \u001b[0;36m<cell line: 1>\u001b[0;34m()\u001b[0m\n\u001b[0;32m----> 1\u001b[0;31m \u001b[0mt\u001b[0m\u001b[0;34m[\u001b[0m\u001b[0;36m0\u001b[0m\u001b[0;34m]\u001b[0m\u001b[0;34m=\u001b[0m\u001b[0;34m'new'\u001b[0m\u001b[0;34m\u001b[0m\u001b[0;34m\u001b[0m\u001b[0m\n\u001b[0m",
            "\u001b[0;31mTypeError\u001b[0m: 'tuple' object does not support item assignment"
          ]
        }
      ],
      "source": [
        "t[0]='new'"
      ]
    },
    {
      "cell_type": "code",
      "execution_count": 153,
      "metadata": {
        "colab": {
          "base_uri": "https://localhost:8080/"
        },
        "id": "pkWCHR4fHtDc",
        "outputId": "ee2577b8-d2b3-48ba-bad0-6387c02ae00b"
      },
      "outputs": [
        {
          "output_type": "execute_result",
          "data": {
            "text/plain": [
              "True"
            ]
          },
          "metadata": {},
          "execution_count": 153
        }
      ],
      "source": [
        "(0, 1, 2) < (0, 3, 4)"
      ]
    },
    {
      "cell_type": "code",
      "execution_count": 154,
      "metadata": {
        "collapsed": true,
        "colab": {
          "base_uri": "https://localhost:8080/"
        },
        "id": "Io5J9dekHtDc",
        "outputId": "089d21e4-8958-49c8-b438-e47c833dded9"
      },
      "outputs": [
        {
          "output_type": "stream",
          "name": "stdout",
          "text": [
            "2.4 , 5.7 , 9.0\n"
          ]
        }
      ],
      "source": [
        "point = (2.4, 5.7, 9.0)  # tuple\n",
        "x, y, z = point\n",
        "print(x,',',y, ',', z)"
      ]
    },
    {
      "cell_type": "code",
      "execution_count": 155,
      "metadata": {
        "collapsed": true,
        "colab": {
          "base_uri": "https://localhost:8080/"
        },
        "id": "S2bx5j1uHtDd",
        "outputId": "ec597442-e807-4a0e-b8bf-00fc7951a683"
      },
      "outputs": [
        {
          "output_type": "execute_result",
          "data": {
            "text/plain": [
              "<function tuple.count(value, /)>"
            ]
          },
          "metadata": {},
          "execution_count": 155
        }
      ],
      "source": [
        "t.count"
      ]
    },
    {
      "cell_type": "markdown",
      "metadata": {
        "id": "CrmOZkSRHtDd"
      },
      "source": [
        "# Comparison Operators\n",
        "result will be get true or false "
      ]
    },
    {
      "cell_type": "code",
      "execution_count": 156,
      "metadata": {
        "colab": {
          "base_uri": "https://localhost:8080/"
        },
        "id": "ANgTZsJSHtDd",
        "outputId": "bd8898a8-0bc1-4f43-b4a9-0294dd5910f0"
      },
      "outputs": [
        {
          "output_type": "execute_result",
          "data": {
            "text/plain": [
              "False"
            ]
          },
          "metadata": {},
          "execution_count": 156
        }
      ],
      "source": [
        "1>2"
      ]
    },
    {
      "cell_type": "code",
      "execution_count": 157,
      "metadata": {
        "colab": {
          "base_uri": "https://localhost:8080/"
        },
        "id": "G5HC_vokHtDd",
        "outputId": "5b198d27-dadd-40ee-ca8c-37d771495fae"
      },
      "outputs": [
        {
          "output_type": "execute_result",
          "data": {
            "text/plain": [
              "True"
            ]
          },
          "metadata": {},
          "execution_count": 157
        }
      ],
      "source": [
        "3>2"
      ]
    },
    {
      "cell_type": "code",
      "execution_count": 158,
      "metadata": {
        "colab": {
          "base_uri": "https://localhost:8080/"
        },
        "id": "NAKkq29JHtDd",
        "outputId": "9d379bb6-cefb-4a4b-ba6c-ab399ae9f212"
      },
      "outputs": [
        {
          "output_type": "execute_result",
          "data": {
            "text/plain": [
              "True"
            ]
          },
          "metadata": {},
          "execution_count": 158
        }
      ],
      "source": [
        "1!=3"
      ]
    },
    {
      "cell_type": "code",
      "execution_count": 159,
      "metadata": {
        "colab": {
          "base_uri": "https://localhost:8080/"
        },
        "id": "qlG5y0Q5HtDe",
        "outputId": "65643303-2f1f-45fd-81e9-fb1878c35be2"
      },
      "outputs": [
        {
          "output_type": "execute_result",
          "data": {
            "text/plain": [
              "False"
            ]
          },
          "metadata": {},
          "execution_count": 159
        }
      ],
      "source": [
        "'hi'=='bye'"
      ]
    },
    {
      "cell_type": "code",
      "execution_count": 160,
      "metadata": {
        "colab": {
          "base_uri": "https://localhost:8080/"
        },
        "id": "hqhE4kChHtDe",
        "outputId": "e4e372a8-a9d6-48c5-de04-975e64caa99e"
      },
      "outputs": [
        {
          "output_type": "execute_result",
          "data": {
            "text/plain": [
              "True"
            ]
          },
          "metadata": {},
          "execution_count": 160
        }
      ],
      "source": [
        "(1<2)and (2<3)"
      ]
    },
    {
      "cell_type": "code",
      "execution_count": 161,
      "metadata": {
        "colab": {
          "base_uri": "https://localhost:8080/"
        },
        "id": "cV6nnPPqHtDe",
        "outputId": "31e9f048-2608-479a-e00a-12769f702f14"
      },
      "outputs": [
        {
          "output_type": "execute_result",
          "data": {
            "text/plain": [
              "True"
            ]
          },
          "metadata": {},
          "execution_count": 161
        }
      ],
      "source": [
        "(1<2)or (2<3)or(1==1)"
      ]
    }
  ],
  "metadata": {
    "kernelspec": {
      "display_name": "Python 3",
      "name": "python3"
    },
    "language_info": {
      "codemirror_mode": {
        "name": "ipython",
        "version": 3
      },
      "file_extension": ".py",
      "mimetype": "text/x-python",
      "name": "python",
      "nbconvert_exporter": "python",
      "pygments_lexer": "ipython3",
      "version": "3.6.0"
    },
    "colab": {
      "provenance": [],
      "include_colab_link": true
    }
  },
  "nbformat": 4,
  "nbformat_minor": 0
}